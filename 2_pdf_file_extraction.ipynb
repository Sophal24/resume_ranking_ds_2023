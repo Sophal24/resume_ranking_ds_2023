{
 "cells": [
  {
   "cell_type": "code",
   "execution_count": 8,
   "metadata": {},
   "outputs": [],
   "source": [
    "# PyPDF2\n",
    "from PyPDF2 import PdfReader\n",
    "import pandas as pd"
   ]
  },
  {
   "cell_type": "code",
   "execution_count": 9,
   "metadata": {},
   "outputs": [],
   "source": [
    "reader = PdfReader(\"./resume_pdf/cv_sak.pdf\")\n",
    "number_of_pages = len(reader.pages)\n",
    "page = reader.pages[0]\n",
    "text = page.extract_text()"
   ]
  },
  {
   "cell_type": "code",
   "execution_count": 10,
   "metadata": {},
   "outputs": [
    {
     "data": {
      "text/plain": [
       "1"
      ]
     },
     "execution_count": 10,
     "metadata": {},
     "output_type": "execute_result"
    }
   ],
   "source": [
    "number_of_pages"
   ]
  },
  {
   "cell_type": "code",
   "execution_count": 11,
   "metadata": {},
   "outputs": [
    {
     "data": {
      "text/plain": [
       "{'/Type': '/Page',\n",
       " '/Resources': {'/ProcSet': ['/PDF', '/Text', '/ImageB', '/ImageC', '/ImageI'],\n",
       "  '/ExtGState': {'/G3': {'/ca': 1, '/BM': '/Normal'},\n",
       "   '/G7': {'/CA': 1,\n",
       "    '/ca': 1,\n",
       "    '/LC': 0,\n",
       "    '/LJ': 0,\n",
       "    '/LW': 4,\n",
       "    '/ML': 4,\n",
       "    '/SA': True,\n",
       "    '/BM': '/Normal'}},\n",
       "  '/Font': {'/F4': {'/Type': '/Font',\n",
       "    '/Subtype': '/Type0',\n",
       "    '/BaseFont': '/AAAAAA+Gotham-Bold',\n",
       "    '/Encoding': '/Identity-H',\n",
       "    '/DescendantFonts': [IndirectObject(226, 0, 5904228800)],\n",
       "    '/ToUnicode': {'/Filter': '/FlateDecode'}},\n",
       "   '/F5': {'/Type': '/Font',\n",
       "    '/Subtype': '/Type0',\n",
       "    '/BaseFont': '/BAAAAA+CanvaSans-Bold',\n",
       "    '/Encoding': '/Identity-H',\n",
       "    '/DescendantFonts': [IndirectObject(228, 0, 5904228800)],\n",
       "    '/ToUnicode': {'/Filter': '/FlateDecode'}},\n",
       "   '/F6': {'/Type': '/Font',\n",
       "    '/Subtype': '/Type0',\n",
       "    '/BaseFont': '/CAAAAA+CanvaSans-Regular',\n",
       "    '/Encoding': '/Identity-H',\n",
       "    '/DescendantFonts': [IndirectObject(230, 0, 5904228800)],\n",
       "    '/ToUnicode': {'/Filter': '/FlateDecode'}}}},\n",
       " '/MediaBox': [0, 11.130055, 1190.25, 1694.88],\n",
       " '/Contents': {'/Filter': '/FlateDecode'},\n",
       " '/StructParents': 0,\n",
       " '/Parent': {'/Type': '/Pages',\n",
       "  '/Kids': [IndirectObject(7, 0, 5904228800)],\n",
       "  '/Count': 1},\n",
       " '/Tabs': '/S',\n",
       " '/BleedBox': [0, 11.130055, 1190.25, 1694.88],\n",
       " '/TrimBox': [0, 11.130055, 1190.25, 1694.88],\n",
       " '/CropBox': [0, 11.130055, 1190.25, 1694.88],\n",
       " '/Rotate': 0,\n",
       " '/Annots': []}"
      ]
     },
     "execution_count": 11,
     "metadata": {},
     "output_type": "execute_result"
    }
   ],
   "source": [
    "page"
   ]
  },
  {
   "cell_type": "code",
   "execution_count": 12,
   "metadata": {},
   "outputs": [
    {
     "data": {
      "text/plain": [
       "'Thear Sithysak\\nComputer Science(Data Science)\\nSt 618, Sangkat Boeng Kak Ti 2,\\nKhan Toul Kark, Phnom Penh \\n(855)10-382-829\\nsithysak.thear@student.cadt.edu.khCONTACT\\nEXPERIENCE\\nCapstone project\\nMarch – June 2023\\nManaged to design Rental Car website as\\nteam \\n. Design and do frontend\\n. Write report \\nUI/UX Design\\n 1 – 24 March 2023\\nFinal project for web application course. \\nI designed about School Management as a\\nfinal project.\\nEntrepreneurship\\n 1 – 15 July 2023\\nResearch on E-Marketing by research data\\non internet and make surveys from seller\\nand customer.EDUCATION\\nBachelor of Computer Science at\\nCambodia Academy of Digital\\nTechnology (CADT)  \\nPaññāsāstra University of\\nCambodia(PUC) part time English\\nclass   (2017-2019)\\nHigh school (2019-2021)-Grand D\\nSKILL\\nEnvironment conversation\\nReading\\nSport\\nMusicINTERESTS. C\\n. Python\\n. Database, SQL\\n. PHP (Laravel)\\n. GitPERSONAL INFORMATION\\nGender : Male \\nNationality : Cambodian \\nDate of Birth : 17th February 1999 \\nPlace of Birth : Phnom Penh, Cambodia\\nLANGUAGE\\nMother language: Khmer\\nSecond Language: English'"
      ]
     },
     "execution_count": 12,
     "metadata": {},
     "output_type": "execute_result"
    }
   ],
   "source": [
    "text"
   ]
  },
  {
   "cell_type": "code",
   "execution_count": 13,
   "metadata": {},
   "outputs": [
    {
     "data": {
      "text/plain": [
       "['Thear Sithysak',\n",
       " 'Computer Science(Data Science)',\n",
       " 'St 618, Sangkat Boeng Kak Ti 2,',\n",
       " 'Khan Toul Kark, Phnom Penh ',\n",
       " '(855)10-382-829',\n",
       " 'sithysak.thear@student.cadt.edu.khCONTACT',\n",
       " 'EXPERIENCE',\n",
       " 'Capstone project',\n",
       " 'March – June 2023',\n",
       " 'Managed to design Rental Car website as',\n",
       " 'team ',\n",
       " '. Design and do frontend',\n",
       " '. Write report ',\n",
       " 'UI/UX Design',\n",
       " ' 1 – 24 March 2023',\n",
       " 'Final project for web application course. ',\n",
       " 'I designed about School Management as a',\n",
       " 'final project.',\n",
       " 'Entrepreneurship',\n",
       " ' 1 – 15 July 2023',\n",
       " 'Research on E-Marketing by research data',\n",
       " 'on internet and make surveys from seller',\n",
       " 'and customer.EDUCATION',\n",
       " 'Bachelor of Computer Science at',\n",
       " 'Cambodia Academy of Digital',\n",
       " 'Technology (CADT)  ',\n",
       " 'Paññāsāstra University of',\n",
       " 'Cambodia(PUC) part time English',\n",
       " 'class   (2017-2019)',\n",
       " 'High school (2019-2021)-Grand D',\n",
       " 'SKILL',\n",
       " 'Environment conversation',\n",
       " 'Reading',\n",
       " 'Sport',\n",
       " 'MusicINTERESTS. C',\n",
       " '. Python',\n",
       " '. Database, SQL',\n",
       " '. PHP (Laravel)',\n",
       " '. GitPERSONAL INFORMATION',\n",
       " 'Gender : Male ',\n",
       " 'Nationality : Cambodian ',\n",
       " 'Date of Birth : 17th February 1999 ',\n",
       " 'Place of Birth : Phnom Penh, Cambodia',\n",
       " 'LANGUAGE',\n",
       " 'Mother language: Khmer',\n",
       " 'Second Language: English']"
      ]
     },
     "execution_count": 13,
     "metadata": {},
     "output_type": "execute_result"
    }
   ],
   "source": [
    "split_text = text.split('\\n')\n",
    "split_text"
   ]
  },
  {
   "cell_type": "code",
   "execution_count": null,
   "metadata": {},
   "outputs": [],
   "source": []
  }
 ],
 "metadata": {
  "kernelspec": {
   "display_name": "Python 3",
   "language": "python",
   "name": "python3"
  },
  "language_info": {
   "codemirror_mode": {
    "name": "ipython",
    "version": 3
   },
   "file_extension": ".py",
   "mimetype": "text/x-python",
   "name": "python",
   "nbconvert_exporter": "python",
   "pygments_lexer": "ipython3",
   "version": "3.9.13"
  },
  "orig_nbformat": 4
 },
 "nbformat": 4,
 "nbformat_minor": 2
}
