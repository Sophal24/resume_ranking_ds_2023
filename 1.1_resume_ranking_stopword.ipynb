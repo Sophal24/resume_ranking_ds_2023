{
 "cells": [
  {
   "cell_type": "code",
   "execution_count": 1,
   "metadata": {},
   "outputs": [],
   "source": [
    "import pandas as pd\n",
    "import numpy as np\n",
    "import matplotlib.pyplot as plt\n",
    "import warnings\n",
    "warnings.filterwarnings('ignore')\n",
    "from sklearn.naive_bayes import MultinomialNB\n",
    "from sklearn.multiclass import OneVsRestClassifier\n",
    "from sklearn import metrics\n",
    "from sklearn.metrics import accuracy_score\n",
    "from pandas.plotting import scatter_matrix\n",
    "from sklearn.neighbors import KNeighborsClassifier\n",
    "from sklearn import metrics\n",
    "\n",
    "import nltk\n",
    "from nltk.corpus import stopwords\n",
    "from nltk.tokenize import word_tokenize\n",
    "import json"
   ]
  },
  {
   "cell_type": "markdown",
   "metadata": {},
   "source": [
    "## Data Pre-processing - Load Data, Clean Data"
   ]
  },
  {
   "cell_type": "markdown",
   "metadata": {},
   "source": [
    "### Read Resume Dataset"
   ]
  },
  {
   "cell_type": "code",
   "execution_count": 2,
   "metadata": {},
   "outputs": [
    {
     "data": {
      "text/html": [
       "<div>\n",
       "<style scoped>\n",
       "    .dataframe tbody tr th:only-of-type {\n",
       "        vertical-align: middle;\n",
       "    }\n",
       "\n",
       "    .dataframe tbody tr th {\n",
       "        vertical-align: top;\n",
       "    }\n",
       "\n",
       "    .dataframe thead th {\n",
       "        text-align: right;\n",
       "    }\n",
       "</style>\n",
       "<table border=\"1\" class=\"dataframe\">\n",
       "  <thead>\n",
       "    <tr style=\"text-align: right;\">\n",
       "      <th></th>\n",
       "      <th>Category</th>\n",
       "      <th>Resume</th>\n",
       "    </tr>\n",
       "  </thead>\n",
       "  <tbody>\n",
       "    <tr>\n",
       "      <th>0</th>\n",
       "      <td>Data Science</td>\n",
       "      <td>Skills * Programming Languages: Python (pandas...</td>\n",
       "    </tr>\n",
       "    <tr>\n",
       "      <th>1</th>\n",
       "      <td>Data Science</td>\n",
       "      <td>Education Details \\r\\nMay 2013 to May 2017 B.E...</td>\n",
       "    </tr>\n",
       "    <tr>\n",
       "      <th>2</th>\n",
       "      <td>Data Science</td>\n",
       "      <td>Areas of Interest Deep Learning, Control Syste...</td>\n",
       "    </tr>\n",
       "  </tbody>\n",
       "</table>\n",
       "</div>"
      ],
      "text/plain": [
       "       Category                                             Resume\n",
       "0  Data Science  Skills * Programming Languages: Python (pandas...\n",
       "1  Data Science  Education Details \\r\\nMay 2013 to May 2017 B.E...\n",
       "2  Data Science  Areas of Interest Deep Learning, Control Syste..."
      ]
     },
     "execution_count": 2,
     "metadata": {},
     "output_type": "execute_result"
    }
   ],
   "source": [
    "df_resume = pd.read_csv('./dataset/resume_dataset.csv' ,encoding='utf-8')\n",
    "df_resume.head(3)"
   ]
  },
  {
   "cell_type": "markdown",
   "metadata": {},
   "source": [
    "### Rename Column Names"
   ]
  },
  {
   "cell_type": "code",
   "execution_count": 3,
   "metadata": {},
   "outputs": [
    {
     "data": {
      "text/html": [
       "<div>\n",
       "<style scoped>\n",
       "    .dataframe tbody tr th:only-of-type {\n",
       "        vertical-align: middle;\n",
       "    }\n",
       "\n",
       "    .dataframe tbody tr th {\n",
       "        vertical-align: top;\n",
       "    }\n",
       "\n",
       "    .dataframe thead th {\n",
       "        text-align: right;\n",
       "    }\n",
       "</style>\n",
       "<table border=\"1\" class=\"dataframe\">\n",
       "  <thead>\n",
       "    <tr style=\"text-align: right;\">\n",
       "      <th></th>\n",
       "      <th>category</th>\n",
       "      <th>resume</th>\n",
       "    </tr>\n",
       "  </thead>\n",
       "  <tbody>\n",
       "    <tr>\n",
       "      <th>0</th>\n",
       "      <td>Data Science</td>\n",
       "      <td>Skills * Programming Languages: Python (pandas...</td>\n",
       "    </tr>\n",
       "    <tr>\n",
       "      <th>1</th>\n",
       "      <td>Data Science</td>\n",
       "      <td>Education Details \\r\\nMay 2013 to May 2017 B.E...</td>\n",
       "    </tr>\n",
       "    <tr>\n",
       "      <th>2</th>\n",
       "      <td>Data Science</td>\n",
       "      <td>Areas of Interest Deep Learning, Control Syste...</td>\n",
       "    </tr>\n",
       "  </tbody>\n",
       "</table>\n",
       "</div>"
      ],
      "text/plain": [
       "       category                                             resume\n",
       "0  Data Science  Skills * Programming Languages: Python (pandas...\n",
       "1  Data Science  Education Details \\r\\nMay 2013 to May 2017 B.E...\n",
       "2  Data Science  Areas of Interest Deep Learning, Control Syste..."
      ]
     },
     "execution_count": 3,
     "metadata": {},
     "output_type": "execute_result"
    }
   ],
   "source": [
    "df_resume = df_resume.rename(columns={'Category': 'category', 'Resume': 'resume'})\n",
    "df_resume.head(3)"
   ]
  },
  {
   "cell_type": "markdown",
   "metadata": {},
   "source": [
    "### Functions to Clean resume and job description - 2 steps (2 functions)"
   ]
  },
  {
   "cell_type": "code",
   "execution_count": 4,
   "metadata": {},
   "outputs": [],
   "source": [
    "import re\n",
    "\n",
    "# clean step 1\n",
    "def cleanResume(resumeText):\n",
    "    # Step 1\n",
    "    resumeText = re.sub('http\\S+\\s*', ' ', resumeText)  # remove URLs\n",
    "    resumeText = re.sub('RT|cc', ' ', resumeText)  # remove RT and cc\n",
    "    resumeText = re.sub('#\\S+', '', resumeText)  # remove hashtags\n",
    "    resumeText = re.sub('@\\S+', '  ', resumeText)  # remove mentions\n",
    "    resumeText = re.sub('[%s]' % re.escape(\"\"\"!\"#$%&'()*+,-./:;<=>?@[\\]^_`{|}~\"\"\"), ' ', resumeText)  # remove punctuations\n",
    "    resumeText = re.sub(r'[^\\x00-\\x7f]',r' ', resumeText) \n",
    "    resumeText = re.sub('\\s+', ' ', resumeText)  # remove extra whitespace\n",
    "\n",
    "    # Step 2\n",
    "    resumeText = re.sub('[^A-Za-z]', ' ', resumeText)\n",
    "    resumeText = \" \".join(resumeText.split()).lower() #remove extra and trailing space + map to lower case\n",
    "\n",
    "\n",
    "    # Step 3 - Clean Stopwords - Using NLTK Lib\n",
    "    stop_words = set(stopwords.words('english'))\n",
    "    word_tokens = word_tokenize(resumeText)\n",
    "    filtered_sentence = [w for w in word_tokens if not w.lower() in stop_words]\n",
    "    #with no lower case conversion\n",
    "    filtered_sentence = []\n",
    "    for w in word_tokens:\n",
    "        if w not in stop_words:\n",
    "            filtered_sentence.append(w)\n",
    "\n",
    "    final_resumeText = ' '.join(filtered_sentence)\n",
    "    \n",
    "    return final_resumeText\n",
    "\n"
   ]
  },
  {
   "cell_type": "markdown",
   "metadata": {},
   "source": [
    "### Apply Clean Function on Dataset"
   ]
  },
  {
   "cell_type": "code",
   "execution_count": 5,
   "metadata": {},
   "outputs": [
    {
     "data": {
      "text/html": [
       "<div>\n",
       "<style scoped>\n",
       "    .dataframe tbody tr th:only-of-type {\n",
       "        vertical-align: middle;\n",
       "    }\n",
       "\n",
       "    .dataframe tbody tr th {\n",
       "        vertical-align: top;\n",
       "    }\n",
       "\n",
       "    .dataframe thead th {\n",
       "        text-align: right;\n",
       "    }\n",
       "</style>\n",
       "<table border=\"1\" class=\"dataframe\">\n",
       "  <thead>\n",
       "    <tr style=\"text-align: right;\">\n",
       "      <th></th>\n",
       "      <th>category</th>\n",
       "      <th>resume</th>\n",
       "      <th>final_cleaned_resume</th>\n",
       "    </tr>\n",
       "  </thead>\n",
       "  <tbody>\n",
       "    <tr>\n",
       "      <th>0</th>\n",
       "      <td>Data Science</td>\n",
       "      <td>Skills * Programming Languages: Python (pandas...</td>\n",
       "      <td>skills programming languages python pandas num...</td>\n",
       "    </tr>\n",
       "    <tr>\n",
       "      <th>1</th>\n",
       "      <td>Data Science</td>\n",
       "      <td>Education Details \\r\\nMay 2013 to May 2017 B.E...</td>\n",
       "      <td>education details may may b e uit rgpv data sc...</td>\n",
       "    </tr>\n",
       "    <tr>\n",
       "      <th>2</th>\n",
       "      <td>Data Science</td>\n",
       "      <td>Areas of Interest Deep Learning, Control Syste...</td>\n",
       "      <td>areas interest deep learning control system de...</td>\n",
       "    </tr>\n",
       "    <tr>\n",
       "      <th>3</th>\n",
       "      <td>Data Science</td>\n",
       "      <td>Skills â¢ R â¢ Python â¢ SAP HANA â¢ Table...</td>\n",
       "      <td>skills r python sap hana tableau sap hana sql ...</td>\n",
       "    </tr>\n",
       "    <tr>\n",
       "      <th>4</th>\n",
       "      <td>Data Science</td>\n",
       "      <td>Education Details \\r\\n MCA   YMCAUST,  Faridab...</td>\n",
       "      <td>education details mca ymcaust faridabad haryan...</td>\n",
       "    </tr>\n",
       "  </tbody>\n",
       "</table>\n",
       "</div>"
      ],
      "text/plain": [
       "       category                                             resume  \\\n",
       "0  Data Science  Skills * Programming Languages: Python (pandas...   \n",
       "1  Data Science  Education Details \\r\\nMay 2013 to May 2017 B.E...   \n",
       "2  Data Science  Areas of Interest Deep Learning, Control Syste...   \n",
       "3  Data Science  Skills â¢ R â¢ Python â¢ SAP HANA â¢ Table...   \n",
       "4  Data Science  Education Details \\r\\n MCA   YMCAUST,  Faridab...   \n",
       "\n",
       "                                final_cleaned_resume  \n",
       "0  skills programming languages python pandas num...  \n",
       "1  education details may may b e uit rgpv data sc...  \n",
       "2  areas interest deep learning control system de...  \n",
       "3  skills r python sap hana tableau sap hana sql ...  \n",
       "4  education details mca ymcaust faridabad haryan...  "
      ]
     },
     "execution_count": 5,
     "metadata": {},
     "output_type": "execute_result"
    }
   ],
   "source": [
    "# clean step 1\n",
    "df_resume['final_cleaned_resume'] = df_resume.resume.apply(lambda x: cleanResume(x))\n",
    "\n",
    "# # clean step 2\n",
    "# df_resume = df_resume.assign(final_cleaned_resume = df_resume.step1_cleaned_resume.apply(clean_sentence))\n",
    "df_resume.head(5)"
   ]
  },
  {
   "cell_type": "code",
   "execution_count": 6,
   "metadata": {},
   "outputs": [],
   "source": [
    "# df_resume['final_cleaned_resume'][0]"
   ]
  },
  {
   "cell_type": "markdown",
   "metadata": {},
   "source": [
    "## Using SBERT.net - Link: https://www.sbert.net/"
   ]
  },
  {
   "cell_type": "markdown",
   "metadata": {},
   "source": [
    "### Install SBERT"
   ]
  },
  {
   "cell_type": "code",
   "execution_count": 7,
   "metadata": {},
   "outputs": [],
   "source": [
    "# pip install -U sentence-transformers"
   ]
  },
  {
   "cell_type": "code",
   "execution_count": 8,
   "metadata": {},
   "outputs": [
    {
     "data": {
      "text/plain": [
       "array([[0.8843454]], dtype=float32)"
      ]
     },
     "execution_count": 8,
     "metadata": {},
     "output_type": "execute_result"
    }
   ],
   "source": [
    "from sentence_transformers import SentenceTransformer\n",
    "from sklearn.metrics.pairwise import cosine_similarity\n",
    "\n",
    "model = SentenceTransformer('all-MiniLM-L6-v2')\n",
    "\n",
    "sentence_1 = ['This is a sentence.']\n",
    "sentence_2 = ['This is a sentence!']\n",
    "\n",
    "#Sentences are encoded by calling model.encode()\n",
    "embedding_1 = model.encode(sentence_1)\n",
    "embedding_2 = model.encode(sentence_2)\n",
    "\n",
    "# print(embedding_1)\n",
    "# print(embedding_2)\n",
    "\n",
    "cosine_similarity(embedding_1, embedding_2)"
   ]
  },
  {
   "cell_type": "markdown",
   "metadata": {},
   "source": [
    "### Read Job Description Dataset"
   ]
  },
  {
   "cell_type": "code",
   "execution_count": 9,
   "metadata": {},
   "outputs": [],
   "source": [
    "df_jd = pd.read_excel('./dataset/job_description.xlsx')\n",
    "\n",
    "df_jd_it_job_only = df_jd[df_jd['Job_Category'] == 'IT'] # dataframe job related to IT"
   ]
  },
  {
   "cell_type": "markdown",
   "metadata": {},
   "source": [
    "### Rename Column Names"
   ]
  },
  {
   "cell_type": "code",
   "execution_count": 10,
   "metadata": {},
   "outputs": [
    {
     "data": {
      "text/html": [
       "<div>\n",
       "<style scoped>\n",
       "    .dataframe tbody tr th:only-of-type {\n",
       "        vertical-align: middle;\n",
       "    }\n",
       "\n",
       "    .dataframe tbody tr th {\n",
       "        vertical-align: top;\n",
       "    }\n",
       "\n",
       "    .dataframe thead th {\n",
       "        text-align: right;\n",
       "    }\n",
       "</style>\n",
       "<table border=\"1\" class=\"dataframe\">\n",
       "  <thead>\n",
       "    <tr style=\"text-align: right;\">\n",
       "      <th></th>\n",
       "      <th>position</th>\n",
       "      <th>job_description</th>\n",
       "    </tr>\n",
       "  </thead>\n",
       "  <tbody>\n",
       "    <tr>\n",
       "      <th>0</th>\n",
       "      <td>Poster Designer</td>\n",
       "      <td>Japnese language understanding. Video editing ...</td>\n",
       "    </tr>\n",
       "    <tr>\n",
       "      <th>1</th>\n",
       "      <td>BOA-Registered Architect/ Senior Architect</td>\n",
       "      <td>2 positions for cambodia boa registered archit...</td>\n",
       "    </tr>\n",
       "    <tr>\n",
       "      <th>2</th>\n",
       "      <td>Interior Architect/ Intermediate Interior Desi...</td>\n",
       "      <td>The company is seeking an experienced INTERIOR...</td>\n",
       "    </tr>\n",
       "  </tbody>\n",
       "</table>\n",
       "</div>"
      ],
      "text/plain": [
       "                                            position  \\\n",
       "0                                   Poster Designer    \n",
       "1         BOA-Registered Architect/ Senior Architect   \n",
       "2  Interior Architect/ Intermediate Interior Desi...   \n",
       "\n",
       "                                     job_description  \n",
       "0  Japnese language understanding. Video editing ...  \n",
       "1  2 positions for cambodia boa registered archit...  \n",
       "2  The company is seeking an experienced INTERIOR...  "
      ]
     },
     "execution_count": 10,
     "metadata": {},
     "output_type": "execute_result"
    }
   ],
   "source": [
    "df_jd = df_jd[['Position', 'Job_Description']]\n",
    "df_jd = df_jd.rename(columns={'Position': 'position', 'Job_Description': 'job_description'})\n",
    "df_jd.head(3)"
   ]
  },
  {
   "cell_type": "markdown",
   "metadata": {},
   "source": [
    "### Clean Job Description Dataset"
   ]
  },
  {
   "cell_type": "code",
   "execution_count": 11,
   "metadata": {},
   "outputs": [
    {
     "data": {
      "text/html": [
       "<div>\n",
       "<style scoped>\n",
       "    .dataframe tbody tr th:only-of-type {\n",
       "        vertical-align: middle;\n",
       "    }\n",
       "\n",
       "    .dataframe tbody tr th {\n",
       "        vertical-align: top;\n",
       "    }\n",
       "\n",
       "    .dataframe thead th {\n",
       "        text-align: right;\n",
       "    }\n",
       "</style>\n",
       "<table border=\"1\" class=\"dataframe\">\n",
       "  <thead>\n",
       "    <tr style=\"text-align: right;\">\n",
       "      <th></th>\n",
       "      <th>position</th>\n",
       "      <th>job_description</th>\n",
       "      <th>final_cleaned_jd</th>\n",
       "    </tr>\n",
       "  </thead>\n",
       "  <tbody>\n",
       "    <tr>\n",
       "      <th>0</th>\n",
       "      <td>Poster Designer</td>\n",
       "      <td>Japnese language understanding. Video editing ...</td>\n",
       "      <td>japnese language understanding video editing a...</td>\n",
       "    </tr>\n",
       "    <tr>\n",
       "      <th>1</th>\n",
       "      <td>BOA-Registered Architect/ Senior Architect</td>\n",
       "      <td>2 positions for cambodia boa registered archit...</td>\n",
       "      <td>positions cambodia boa registered architect se...</td>\n",
       "    </tr>\n",
       "    <tr>\n",
       "      <th>2</th>\n",
       "      <td>Interior Architect/ Intermediate Interior Desi...</td>\n",
       "      <td>The company is seeking an experienced INTERIOR...</td>\n",
       "      <td>company seeking experienced interior architect...</td>\n",
       "    </tr>\n",
       "  </tbody>\n",
       "</table>\n",
       "</div>"
      ],
      "text/plain": [
       "                                            position  \\\n",
       "0                                   Poster Designer    \n",
       "1         BOA-Registered Architect/ Senior Architect   \n",
       "2  Interior Architect/ Intermediate Interior Desi...   \n",
       "\n",
       "                                     job_description  \\\n",
       "0  Japnese language understanding. Video editing ...   \n",
       "1  2 positions for cambodia boa registered archit...   \n",
       "2  The company is seeking an experienced INTERIOR...   \n",
       "\n",
       "                                    final_cleaned_jd  \n",
       "0  japnese language understanding video editing a...  \n",
       "1  positions cambodia boa registered architect se...  \n",
       "2  company seeking experienced interior architect...  "
      ]
     },
     "execution_count": 11,
     "metadata": {},
     "output_type": "execute_result"
    }
   ],
   "source": [
    "# clean job description\n",
    "df_jd['final_cleaned_jd'] = df_jd.job_description.apply(lambda x: cleanResume(x))\n",
    "df_jd.head(3)"
   ]
  },
  {
   "cell_type": "code",
   "execution_count": 12,
   "metadata": {},
   "outputs": [],
   "source": [
    "df_jd = df_jd.head(1000)"
   ]
  },
  {
   "cell_type": "markdown",
   "metadata": {},
   "source": [
    "### 1 Test Case - Compare 1 Resume and 1 Job Description"
   ]
  },
  {
   "cell_type": "code",
   "execution_count": 13,
   "metadata": {},
   "outputs": [
    {
     "name": "stdout",
     "output_type": "stream",
     "text": [
      "Resume 1: ['skills programming languages python pandas numpy scipy scikit learn matplotlib sql java javascript jquery machine learning regression svm na bayes knn random forest decision trees boosting techniques cluster analysis word embedding sentiment analysis natural language processing dimensionality reduction topic modelling lda nmf pca neural nets database visualizations mysql sqlserver cassandra hbase elasticsearch js dc js plotly kibana matplotlib ggplot tableau others regular expression html css angular logstash kafka python flask git docker computer vision open cv understanding deep learning education details data science assurance associate data science assurance associate ernst young llp skill details javascript exprience months jquery exprience months python exprience monthscompany details company ernst young llp description fraud investigations dispute services assurance technology assisted review tar technology assisted review assists elerating review process run analytics generate reports core member team helped developing automated review platform tool scratch assisting e discovery domain tool implements predictive coding topic modelling automating reviews resulting reduced labor costs time spent lawyers review understand end end flow solution research development classification models predictive analysis mining information present text data worked analyzing outputs precision monitoring entire tool tar assists predictive coding topic modelling evidence following ey standards developed classifier models order identify red flags fraud related issues tools technologies python scikit learn tfidf word vec doc vec cosine similarity na bayes lda nmf topic modelling vader text blob sentiment analysis matplot lib tableau dashboard reporting multiple data science analytic projects usa clients text analytics motor vehicle customer review data received customer feedback survey data past one year performed sentiment positive negative neutral time series analysis customer comments across categories created heat map terms survey category based frequency words extracted positive negative words across survey categories plotted word cloud created customized tableau dashboards effective reporting visualizations chatbot developed user friendly chatbot one products handle simple questions hours operation reservation options chat bot serves entire product related questions giving overview tool via qa platform also give recommendation responses user question build chain relevant answer intelligence build pipeline questions per user requirement asks relevant recommended questions tools technologies python natural language processing nltk spacy topic modelling sentiment analysis word embedding scikit learn javascript jquery sqlserver information governance organizations make informed decisions information store integrated information governance portfolio synthesizes intelligence across unstructured data sources facilitates action ensure organizations best positioned counter information risk scan data multiple sources formats parse different file formats extract meta data information push results indexing elastic search created customized interactive dashboards using kibana preforming rot analysis data give information data helps identify content either redundant outdated trivial preforming full text search analysis elastic search predefined methods tag pii personally identifiable information social security numbers addresses names etc frequently targeted cyber attacks tools technologies python flask elastic search kibana fraud analytic platform fraud analytics investigative platform review red flag cases fap fraud analytics investigative platform inbuilt case manager suite analytics various erp systems used clients interrogate ounting systems identifying anomalies indicators fraud running advanced analytics tools technologies html javascript sqlserver jquery css bootstrap node js js dc js']\n",
      "Job Description: ['japnese language understanding video editing adobe photoshop illustrator japanese language']\n"
     ]
    }
   ],
   "source": [
    "resume_description = df_resume.head(1)['final_cleaned_resume']\n",
    "sentence_1 = [resume_description[0]]\n",
    "print(\"Resume 1:\", sentence_1)\n",
    "\n",
    "job_description = df_jd.head(1)['final_cleaned_jd']\n",
    "sentence_2 = [job_description[0]]\n",
    "print(\"Job Description:\", sentence_2)\n",
    "\n",
    "embedding_1 = model.encode(sentence_1)\n",
    "embedding_2 = model.encode(sentence_2)"
   ]
  },
  {
   "cell_type": "code",
   "execution_count": 14,
   "metadata": {},
   "outputs": [
    {
     "name": "stdout",
     "output_type": "stream",
     "text": [
      "==============================================================+\n",
      "Resume-JobDescription Similarity (CosineSimilarity): 0.10676937\n",
      "==============================================================+\n"
     ]
    }
   ],
   "source": [
    "similarity_rate = cosine_similarity(embedding_1, embedding_2)\n",
    "print(\"==============================================================+\")\n",
    "print(\"Resume-JobDescription Similarity (CosineSimilarity):\", similarity_rate[0][0])\n",
    "print(\"==============================================================+\")"
   ]
  },
  {
   "cell_type": "markdown",
   "metadata": {},
   "source": [
    "### 2 Test Case - Compare 5 Resume to 1 Job Description - Random"
   ]
  },
  {
   "cell_type": "code",
   "execution_count": 15,
   "metadata": {},
   "outputs": [
    {
     "data": {
      "text/html": [
       "<div>\n",
       "<style scoped>\n",
       "    .dataframe tbody tr th:only-of-type {\n",
       "        vertical-align: middle;\n",
       "    }\n",
       "\n",
       "    .dataframe tbody tr th {\n",
       "        vertical-align: top;\n",
       "    }\n",
       "\n",
       "    .dataframe thead th {\n",
       "        text-align: right;\n",
       "    }\n",
       "</style>\n",
       "<table border=\"1\" class=\"dataframe\">\n",
       "  <thead>\n",
       "    <tr style=\"text-align: right;\">\n",
       "      <th></th>\n",
       "      <th>category</th>\n",
       "      <th>resume</th>\n",
       "      <th>final_cleaned_resume</th>\n",
       "    </tr>\n",
       "  </thead>\n",
       "  <tbody>\n",
       "    <tr>\n",
       "      <th>337</th>\n",
       "      <td>Java Developer</td>\n",
       "      <td>Education Details \\r\\nJanuary 2013 Master of E...</td>\n",
       "      <td>education details january master engineering i...</td>\n",
       "    </tr>\n",
       "    <tr>\n",
       "      <th>336</th>\n",
       "      <td>Java Developer</td>\n",
       "      <td>TECHNICAL STRENGTHS Computer Language Java/J2E...</td>\n",
       "      <td>technical strengths computer language java j e...</td>\n",
       "    </tr>\n",
       "    <tr>\n",
       "      <th>311</th>\n",
       "      <td>Civil Engineer</td>\n",
       "      <td>COMPUTER KNOWLEDGE â¢ Drafting tools: AutoCAD...</td>\n",
       "      <td>computer knowledge drafting tools autocad pack...</td>\n",
       "    </tr>\n",
       "    <tr>\n",
       "      <th>57</th>\n",
       "      <td>HR</td>\n",
       "      <td>Education Details \\r\\n MBA   ACN College of en...</td>\n",
       "      <td>education details mba acn college engineering ...</td>\n",
       "    </tr>\n",
       "    <tr>\n",
       "      <th>898</th>\n",
       "      <td>Testing</td>\n",
       "      <td>Skill Set OS Windows XP/7/8/8.1/10 Database MY...</td>\n",
       "      <td>skill set os windows xp database mysql sql ser...</td>\n",
       "    </tr>\n",
       "  </tbody>\n",
       "</table>\n",
       "</div>"
      ],
      "text/plain": [
       "           category                                             resume  \\\n",
       "337  Java Developer  Education Details \\r\\nJanuary 2013 Master of E...   \n",
       "336  Java Developer  TECHNICAL STRENGTHS Computer Language Java/J2E...   \n",
       "311  Civil Engineer  COMPUTER KNOWLEDGE â¢ Drafting tools: AutoCAD...   \n",
       "57               HR  Education Details \\r\\n MBA   ACN College of en...   \n",
       "898         Testing  Skill Set OS Windows XP/7/8/8.1/10 Database MY...   \n",
       "\n",
       "                                  final_cleaned_resume  \n",
       "337  education details january master engineering i...  \n",
       "336  technical strengths computer language java j e...  \n",
       "311  computer knowledge drafting tools autocad pack...  \n",
       "57   education details mba acn college engineering ...  \n",
       "898  skill set os windows xp database mysql sql ser...  "
      ]
     },
     "execution_count": 15,
     "metadata": {},
     "output_type": "execute_result"
    }
   ],
   "source": [
    "resume_5 = df_resume.sample(n=5)\n",
    "resume_5"
   ]
  },
  {
   "cell_type": "code",
   "execution_count": 16,
   "metadata": {},
   "outputs": [],
   "source": [
    "# job_description = df_jd.head(1)['final_cleaned_jd']\n",
    "job_description = df_jd.sample(n=1)\n",
    "job_description\n",
    "\n",
    "jd = ''\n",
    "for index, row in job_description.iterrows():\n",
    "    jd = row['final_cleaned_jd']"
   ]
  },
  {
   "cell_type": "code",
   "execution_count": 17,
   "metadata": {},
   "outputs": [
    {
     "name": "stdout",
     "output_type": "stream",
     "text": [
      "Resume           : education details january master engineering information technology pune maharashtra january bachelor engineering information technology pusad maharashtra amravati university january pusad maharashtra p n junior college january c pusad maharashtra k high school java developer java developer maxgen technologies skill details company details company maxgen technologies description currently working infrasoft technologies andheri java developer company mis generation tata sky tata power description courses done android mobile app development technologies java core java advance java jsf hibernate spring niit android project location detector computing mobile devices android project data deduplication projects works reduce redundant data system free memory stores unique copy data location data help pointers ess data java subjects taught c language core java object oriented programming oot c database pps programming problem solving ad advance database ias information assurance security android programming skill c c java android database handled ms ess sql oracle national conference paper presented secure cipher index encrypted character data database dated april pimpri chinchwad college engineering pune\n",
      "Job Description  : hiring training motivating ounting staff members supervising delegating department tasks evaluating developing improving department controls systems procedures increase uracy efficiency overseeing daily activities ounting department ensuring major projects month end year end reports completed urately time ensuring ounting processes align gaap current financial legislation analyzing financial data creating reports management stakeholders external parties vendors lenders maintaining urate complete financial records participating audits reconciliations needed assisting departments develop strategies establish objectives make decisions could financial impact business keeping informed latest developments finance industry\n",
      "Similarity Rate  : 31.81%\n",
      "\n",
      "Resume           : technical strengths computer language java j ee swift html shell script mysql databases mysql tools svn jenkins hudson weblogic c software android studio eclipse oracle xcode operating systems win mac high sierra education details june b e information technology goregaon maharashtra vidyalankar institute technology may mumbai maharashtra thakur polytechnic may mumbai maharashtra st john universal school java developer java developer tech mahindra skill details java exprience months mysql exprience months databases exprience months j ee exprience months android exprience monthscompany details company tech mahindra description team size environment java mysql shell script webserver jenkins description formatter application takes input file geneva modified file gmf geneva server reads data generate bill backup bill invoices client customers bt invoices would sent across clients billing contribution played role java developer involved applying change request current modules worked requirement analysis development user stories also preformed dev unit testing user stories handled e e issues fixing bugs prepare required program level user level documentation company tech mahindra description team size environment java ejb mysql shell script webserver weblogic c server jenkins description staa encapsulation middleware layer acting interface client operational support systems legacy systems transforms legacy data various formats tlv input form xml http staa validations done response sent back end systems back end systems css cosmoss databases business methods deployed ejbs weblogic server shared across various market facing units client contribution played role java developer involved creating services using java j ee worked requirement analysis development user stories also preformed dev unit testing user stories handled e e issues fixing bugs worked migration java java\n",
      "Job Description  : hiring training motivating ounting staff members supervising delegating department tasks evaluating developing improving department controls systems procedures increase uracy efficiency overseeing daily activities ounting department ensuring major projects month end year end reports completed urately time ensuring ounting processes align gaap current financial legislation analyzing financial data creating reports management stakeholders external parties vendors lenders maintaining urate complete financial records participating audits reconciliations needed assisting departments develop strategies establish objectives make decisions could financial impact business keeping informed latest developments finance industry\n",
      "Similarity Rate  : 35.05%\n",
      "\n",
      "Resume           : computer knowledge drafting tools autocad packages ms office applications operating systems windows x xp vista detailexperiences experience india working experience alia construction nallasopara west mumbai since june may civil engineer years project handle project title yashwant orichids position site engineer location nallasopara w mumbai maharashtra indiaeducation details c rajasthan board excellence polytechnic college civil engineer civil engineer site encharge skill details autocad exprience months civil engineer exprience months drafting exprience months engineer exprience months ms office exprience monthscompany details company site encharge description location andheri e marol bus depot near maruti high school midc mumbai maharashtra india experience uae currently working nova engineering works since may till date civil engineer location flat b al maha building university city road muweilah commercial near alfalah round sharjah job responsibilities achieving construction activities like excavation foundation pcc waterproofing rcc shuttering steel fixing casting concrete masonry brick works plastering tile fixing etc completion independently following design engineers architecture structural updated drawing minor changes per site requirement needed inspection casting columns slabs etc looking construction activities making requisition facilitating arrangement procurement construction materials executions civil interior exterior ground finish works site supervision job responsibilities scheduling work preparing verification sub contractors suppliers bills working quantities verify quantities client engineer computer skills drafting tools autocad packages ms office applications operating systems windows x xp vista personal strength excellent communication skills hardworking sincerity honesty individual team working capability knowledge minutes manpower material machine management manage development program strategies thank viewing resume company kherwadi police station description mumbai maharashtra india working experience om construction since january april civil engineer years project handle project title radha position senior engineer location dadar e hindu colony road mumbai maharashtra project title lodha eternis company expe construction description project handle project title estado\n",
      "Job Description  : hiring training motivating ounting staff members supervising delegating department tasks evaluating developing improving department controls systems procedures increase uracy efficiency overseeing daily activities ounting department ensuring major projects month end year end reports completed urately time ensuring ounting processes align gaap current financial legislation analyzing financial data creating reports management stakeholders external parties vendors lenders maintaining urate complete financial records participating audits reconciliations needed assisting departments develop strategies establish objectives make decisions could financial impact business keeping informed latest developments finance industry\n",
      "Similarity Rate  : 38.46%\n",
      "\n",
      "Resume           : education details mba acn college engineering mgt hr skill details company details company hr assistant description\n",
      "Job Description  : hiring training motivating ounting staff members supervising delegating department tasks evaluating developing improving department controls systems procedures increase uracy efficiency overseeing daily activities ounting department ensuring major projects month end year end reports completed urately time ensuring ounting processes align gaap current financial legislation analyzing financial data creating reports management stakeholders external parties vendors lenders maintaining urate complete financial records participating audits reconciliations needed assisting departments develop strategies establish objectives make decisions could financial impact business keeping informed latest developments finance industry\n",
      "Similarity Rate  : 44.06%\n",
      "\n",
      "Resume           : skill set os windows xp database mysql sql server languages core java web technology html css testing manual testing database testing bug tracking reporting end user handling education details january mcs pune maharashtra p v p college pravaranagar january hsc k junior college january ssc k mahavidyalya jr testing engineer jr testing engineer tech innovations ltd skill details testing exprience months windows xp exprience months css exprience months database exprience months database testing exprience monthscompany details company tech innovations ltd description responsibilities analyzing testing requirements preparing test plans test scenarios preparing test cases executing test cases tracking bugs coordinating developers order fix preparing test summary reports reporting quality manager attending meeting projects project name web based time attendance application environment windows vista windows xp windows windows clients mccia sapphire park bramha suncity wanless hospital role software testing duration months project name android time attendance application vehicle tracking system vistor management system environment android mobile android tablet clients vankan security role application testing duration months project name web based factory automation process web based annual maintenance charges environment windows vista windows xp windows windows role software testing duration months project name web based library management system environment windows vista windows xp windows windows role software testing duration months\n",
      "Job Description  : hiring training motivating ounting staff members supervising delegating department tasks evaluating developing improving department controls systems procedures increase uracy efficiency overseeing daily activities ounting department ensuring major projects month end year end reports completed urately time ensuring ounting processes align gaap current financial legislation analyzing financial data creating reports management stakeholders external parties vendors lenders maintaining urate complete financial records participating audits reconciliations needed assisting departments develop strategies establish objectives make decisions could financial impact business keeping informed latest developments finance industry\n",
      "Similarity Rate  : 41.18%\n",
      "\n",
      "{337: 31.81, 336: 35.05, 311: 38.46, 57: 44.06, 898: 41.18}\n"
     ]
    }
   ],
   "source": [
    "ranking_dict = {}\n",
    "\n",
    "for index, row in resume_5.iterrows():\n",
    "    print(\"Resume           :\", row['final_cleaned_resume'])\n",
    "    print(\"Job Description  :\", jd)\n",
    "    resume = row['final_cleaned_resume']\n",
    "    \n",
    "    embedding_1 = model.encode([resume])\n",
    "    embedding_2 = model.encode([jd])\n",
    "\n",
    "    similarity_rate = cosine_similarity(embedding_1, embedding_2)\n",
    "    print(\"Similarity Rate  :\", format(similarity_rate[0][0]*100, '.2f')+'%')\n",
    "    print()\n",
    "    ranking_dict[index] = float(format(similarity_rate[0][0]*100, '.2f'))\n",
    "\n",
    "print(ranking_dict)"
   ]
  },
  {
   "cell_type": "code",
   "execution_count": 18,
   "metadata": {},
   "outputs": [
    {
     "data": {
      "text/plain": [
       "{57: 44.06, 898: 41.18, 311: 38.46, 336: 35.05, 337: 31.81}"
      ]
     },
     "execution_count": 18,
     "metadata": {},
     "output_type": "execute_result"
    }
   ],
   "source": [
    "sorted_ranking_resume = dict(sorted(ranking_dict.items(), key=lambda item: item[1], reverse=True))\n",
    "sorted_ranking_resume"
   ]
  },
  {
   "cell_type": "code",
   "execution_count": 19,
   "metadata": {},
   "outputs": [
    {
     "name": "stdout",
     "output_type": "stream",
     "text": [
      "Index: 57 - 44.06%\n",
      "Index: 898 - 41.18%\n",
      "Index: 311 - 38.46%\n",
      "Index: 336 - 35.05%\n",
      "Index: 337 - 31.81%\n"
     ]
    }
   ],
   "source": [
    "for key in sorted_ranking_resume:\n",
    "    print('Index:', key, '-' , str(sorted_ranking_resume[key]) + '%')"
   ]
  },
  {
   "cell_type": "markdown",
   "metadata": {},
   "source": [
    "### 3 Test Case - Compare 5 Resume to 1 Job Description - Static"
   ]
  },
  {
   "cell_type": "code",
   "execution_count": 20,
   "metadata": {},
   "outputs": [],
   "source": [
    "first_5_resume = df_resume.head(5)\n",
    "\n",
    "first_jd = df_jd.head(1)\n",
    "jd = first_jd['final_cleaned_jd'][0]"
   ]
  },
  {
   "cell_type": "code",
   "execution_count": 21,
   "metadata": {},
   "outputs": [
    {
     "name": "stdout",
     "output_type": "stream",
     "text": [
      "Resume           : skills programming languages python pandas numpy scipy scikit learn matplotlib sql java javascript jquery machine learning regression svm na bayes knn random forest decision trees boosting techniques cluster analysis word embedding sentiment analysis natural language processing dimensionality reduction topic modelling lda nmf pca neural nets database visualizations mysql sqlserver cassandra hbase elasticsearch js dc js plotly kibana matplotlib ggplot tableau others regular expression html css angular logstash kafka python flask git docker computer vision open cv understanding deep learning education details data science assurance associate data science assurance associate ernst young llp skill details javascript exprience months jquery exprience months python exprience monthscompany details company ernst young llp description fraud investigations dispute services assurance technology assisted review tar technology assisted review assists elerating review process run analytics generate reports core member team helped developing automated review platform tool scratch assisting e discovery domain tool implements predictive coding topic modelling automating reviews resulting reduced labor costs time spent lawyers review understand end end flow solution research development classification models predictive analysis mining information present text data worked analyzing outputs precision monitoring entire tool tar assists predictive coding topic modelling evidence following ey standards developed classifier models order identify red flags fraud related issues tools technologies python scikit learn tfidf word vec doc vec cosine similarity na bayes lda nmf topic modelling vader text blob sentiment analysis matplot lib tableau dashboard reporting multiple data science analytic projects usa clients text analytics motor vehicle customer review data received customer feedback survey data past one year performed sentiment positive negative neutral time series analysis customer comments across categories created heat map terms survey category based frequency words extracted positive negative words across survey categories plotted word cloud created customized tableau dashboards effective reporting visualizations chatbot developed user friendly chatbot one products handle simple questions hours operation reservation options chat bot serves entire product related questions giving overview tool via qa platform also give recommendation responses user question build chain relevant answer intelligence build pipeline questions per user requirement asks relevant recommended questions tools technologies python natural language processing nltk spacy topic modelling sentiment analysis word embedding scikit learn javascript jquery sqlserver information governance organizations make informed decisions information store integrated information governance portfolio synthesizes intelligence across unstructured data sources facilitates action ensure organizations best positioned counter information risk scan data multiple sources formats parse different file formats extract meta data information push results indexing elastic search created customized interactive dashboards using kibana preforming rot analysis data give information data helps identify content either redundant outdated trivial preforming full text search analysis elastic search predefined methods tag pii personally identifiable information social security numbers addresses names etc frequently targeted cyber attacks tools technologies python flask elastic search kibana fraud analytic platform fraud analytics investigative platform review red flag cases fap fraud analytics investigative platform inbuilt case manager suite analytics various erp systems used clients interrogate ounting systems identifying anomalies indicators fraud running advanced analytics tools technologies html javascript sqlserver jquery css bootstrap node js js dc js\n",
      "Job Description  : japnese language understanding video editing adobe photoshop illustrator japanese language\n",
      "Similarity Rate  : 10.68%\n",
      "\n",
      "Resume           : education details may may b e uit rgpv data scientist data scientist matelabs skill details python exprience less year months statsmodels exprience months aws exprience less year months machine learning exprience less year months sklearn exprience less year months scipy exprience less year months keras exprience less year monthscompany details company matelabs description ml platform business professionals dummies enthusiasts koramangala th block achievements tasks behind sukh sagar bengaluru india developed deployed auto preprocessing steps machine learning mainly missing value treatment outlier detection encoding scaling feature selection dimensionality reduction deployed automated classification regression model linkedin com aditya rathore b b reasearch deployed time series forecasting model arima sarimax holt winter prophet worked meta feature extracting problem github com rathorology implemented state art research paper outlier detection mixed attributes company matelabs description\n",
      "Job Description  : japnese language understanding video editing adobe photoshop illustrator japanese language\n",
      "Similarity Rate  : 3.94%\n",
      "\n",
      "Resume           : areas interest deep learning control system design programming python electric machinery web development analytics technical activities q hindustan aeronautics limited bangalore weeks guidance mr satish senior engineer hangar mirage fighter aircraft technical skills programming matlab python java labview python webframework django flask ltspice intermediate languages mipower intermediate github gitbash jupyter notebook xampp mysql basics python software packages interpreters anaconda python python pycharm java ide eclipse operating systems windows ubuntu debian kali linux education details january b tech electrical electronics engineering manipal institute technology january deeksha center january little flower public school august manipal academy higher data science data science electrical enthusiast skill details data analysis exprience less year months excel exprience less year months machine learning exprience less year months mathematics exprience less year months python exprience less year months matlab exprience less year months electrical engineering exprience less year months sql exprience less year monthscompany details company themathcompany description currently working casino based operator name disclosed macau need segment customers visit property based value patrons bring company basically prove segmentation done much better way current system proper numbers back henceforth implement target marketing strategy attract customers add value business\n",
      "Job Description  : japnese language understanding video editing adobe photoshop illustrator japanese language\n",
      "Similarity Rate  : 6.13%\n",
      "\n",
      "Resume           : skills r python sap hana tableau sap hana sql sap hana pal ms sql sap lumira c linear programming data modelling advance analytics scm analytics retail analytics social media analytics nlp education details january january pgdm business analytics great lakes institute management illinois institute technology january bachelor engineering electronics communication bengaluru karnataka new horizon college engineering bangalore visvesvaraya technological university data science consultant consultant deloitte usi skill details linear programming exprience months retail exprience months retail marketing exprience months scm exprience months sql exprience less year months deep learning exprience less year months machine learning exprience less year months python exprience less year months r exprience less year monthscompany details company deloitte usi description project involved analysing historic deals coming insights optimize future deals role given raw data carried end end analysis presented insights client key responsibilities extract data client systems across geographies understand build reports tableau infer meaningful insights optimize prices find process blockades technical environment r tableau industry cross industry service area cross industry products project name handwriting recognition consultant months project involved taking handwritten images converting digital text images object detection sentence creation role developing sentence correction functionality key responsibilities gather data large enough capture english words train lstm models words technical environment python industry finance service area financial services bi development project name swift consultant months project develop analytics infrastructure top sap would user view financial reports respective departments reporting also included forecasting expenses role leading offshore team key responsibilities design develop data models reporting develop etl data flow validate various reports technical environment sap hana tableau sap ao industry healthcare analytics service area life sciences product development project name clinical healthcare system consultant months project develop analytics infrastructure top argus would allow users query faster provide advance analytics capabilities role involved design deploy phase performed lot data restructuring built models insights key responsibilities design develop data models reporting develop deploy analytical models validate various reports technical environment data modelling sap hana tableau nlp industry fmcg service area trade promotion project name consumption based planning flowers foods consultant months project involved setting crm cbp modules role involved key data decomposition activities setting base future year forecast course project developed various models carried key performance improvements key responsibilities design develop hana models decomposition develop data flow forecast developed various views reporting customer sales funds validate various reports bobj technical environment data modelling sap hana bobj time series forecasting internal initiative industry fmcg customer segmentation rfm analysis consultant months initiative involved setting hana python interface advance analytics python course su essfully segmented data five core segments using k means carried rfm analysis python also developed algorithm categorize new customer defined buckets technical environment anaconda python hana sps industry telecom invoice state detection consultant months initiative reduce manual effort verifying closed open invoices manually involved development decision tree classify open closed invoices enabled effort reduction technical environment r sap pal sap hana sps enture experience industry analytics cross industry process analytics sap senior developer months enture solutions pvt ltd india project involved development sap analytics tool process analytics ipa role develop database objects data models provide operational insights clients role developed various finance related kpis spearheaded various deployments introduced sap predictive analytics reduce development time reuse functionalities kpis prepared production planning reports key responsibilities involved information gather phase designed implemented sap hana data modelling using attribute view analytic view calculation view developed various kpi individually using complex sql scripts calculation views created procedures hana database took ownership developed dashboard functionality involved building data processing algorithms executed r server cluster analysis technical environment r sap hana sql industry cross industry enture testing elerator sap database developer months enture solutions pvt ltd india role taken care development activities atas tool also completed various deployments product apart activities also actively involved maintenance database servers production quality key responsibilities analyzing business requirements understanding scope getting requirements clarified interacting business transform requirements generate attribute mapping documents reviewing mapping specification documentation create update database objects like tables views stored procedures function packages monitored sql server error logs application logs sql server agent prepared data flow diagrams entity relationship diagrams using uml responsible designing developing normalization database tables experience performance tuning using sql profiler involved qa uat knowledge transfer support activities technical environment sql server visual studio windows server performance monitor sql server profiler c pl sql sql\n",
      "Job Description  : japnese language understanding video editing adobe photoshop illustrator japanese language\n",
      "Similarity Rate  : 8.52%\n",
      "\n",
      "Resume           : education details mca ymcaust faridabad haryana data science internship skill details data structure exprience less year months c exprience less year months data analysis exprience less year months python exprience less year months core java exprience less year months database management exprience less year monthscompany details company itechpower description\n",
      "Job Description  : japnese language understanding video editing adobe photoshop illustrator japanese language\n",
      "Similarity Rate  : 8.47%\n",
      "\n",
      "{0: 10.68, 1: 3.94, 2: 6.13, 3: 8.52, 4: 8.47}\n"
     ]
    }
   ],
   "source": [
    "ranking_dict = {}\n",
    "\n",
    "for index, row in first_5_resume.iterrows():\n",
    "    print(\"Resume           :\", row['final_cleaned_resume'])\n",
    "    print(\"Job Description  :\", first_jd['final_cleaned_jd'][0])\n",
    "    resume = row['final_cleaned_resume']\n",
    "    \n",
    "    embedding_1 = model.encode([resume])\n",
    "    embedding_2 = model.encode([jd])\n",
    "\n",
    "    similarity_rate = cosine_similarity(embedding_1, embedding_2)\n",
    "    print(\"Similarity Rate  :\", format(similarity_rate[0][0]*100, '.2f')+'%')\n",
    "    print()\n",
    "    ranking_dict[index] = float(format(similarity_rate[0][0]*100, '.2f'))\n",
    "\n",
    "print(ranking_dict)"
   ]
  },
  {
   "cell_type": "code",
   "execution_count": 22,
   "metadata": {},
   "outputs": [
    {
     "data": {
      "text/plain": [
       "{0: 10.68, 3: 8.52, 4: 8.47, 2: 6.13, 1: 3.94}"
      ]
     },
     "execution_count": 22,
     "metadata": {},
     "output_type": "execute_result"
    }
   ],
   "source": [
    "sorted_ranking_resume = dict(sorted(ranking_dict.items(), key=lambda item: item[1], reverse=True))\n",
    "sorted_ranking_resume"
   ]
  },
  {
   "cell_type": "code",
   "execution_count": 23,
   "metadata": {},
   "outputs": [
    {
     "name": "stdout",
     "output_type": "stream",
     "text": [
      "Index: 0 - 10.68%\n",
      "Index: 3 - 8.52%\n",
      "Index: 4 - 8.47%\n",
      "Index: 2 - 6.13%\n",
      "Index: 1 - 3.94%\n"
     ]
    }
   ],
   "source": [
    "for key in sorted_ranking_resume:\n",
    "    print('Index:', key, '-' , str(sorted_ranking_resume[key]) + '%')"
   ]
  },
  {
   "cell_type": "markdown",
   "metadata": {},
   "source": [
    "### 4 Test Case - Compare Resume and Job Description only job related to \"IT\""
   ]
  },
  {
   "cell_type": "code",
   "execution_count": 24,
   "metadata": {},
   "outputs": [
    {
     "data": {
      "text/html": [
       "<div>\n",
       "<style scoped>\n",
       "    .dataframe tbody tr th:only-of-type {\n",
       "        vertical-align: middle;\n",
       "    }\n",
       "\n",
       "    .dataframe tbody tr th {\n",
       "        vertical-align: top;\n",
       "    }\n",
       "\n",
       "    .dataframe thead th {\n",
       "        text-align: right;\n",
       "    }\n",
       "</style>\n",
       "<table border=\"1\" class=\"dataframe\">\n",
       "  <thead>\n",
       "    <tr style=\"text-align: right;\">\n",
       "      <th></th>\n",
       "      <th>position</th>\n",
       "      <th>job_description</th>\n",
       "    </tr>\n",
       "  </thead>\n",
       "  <tbody>\n",
       "    <tr>\n",
       "      <th>95</th>\n",
       "      <td>Accelerated Skills &amp; Knowledge</td>\n",
       "      <td>Introduction. Amret has developed a dedicated ...</td>\n",
       "    </tr>\n",
       "    <tr>\n",
       "      <th>675</th>\n",
       "      <td>Accounting &amp; System Coordinator</td>\n",
       "      <td>Daily support on system issue error from users...</td>\n",
       "    </tr>\n",
       "    <tr>\n",
       "      <th>991</th>\n",
       "      <td>Acquiring &amp; Ecommerce Officer</td>\n",
       "      <td>Key responsibilities. Onsite offsite training ...</td>\n",
       "    </tr>\n",
       "  </tbody>\n",
       "</table>\n",
       "</div>"
      ],
      "text/plain": [
       "                            position  \\\n",
       "95   Accelerated Skills & Knowledge    \n",
       "675  Accounting & System Coordinator   \n",
       "991    Acquiring & Ecommerce Officer   \n",
       "\n",
       "                                       job_description  \n",
       "95   Introduction. Amret has developed a dedicated ...  \n",
       "675  Daily support on system issue error from users...  \n",
       "991  Key responsibilities. Onsite offsite training ...  "
      ]
     },
     "execution_count": 24,
     "metadata": {},
     "output_type": "execute_result"
    }
   ],
   "source": [
    "df_jd_it_job_only = df_jd_it_job_only[['Position', 'Job_Description']]\n",
    "df_jd_it_job_only = df_jd_it_job_only.rename(columns={'Position': 'position', 'Job_Description': 'job_description'})\n",
    "df_jd_it_job_only.head(3)"
   ]
  },
  {
   "cell_type": "code",
   "execution_count": 25,
   "metadata": {},
   "outputs": [],
   "source": [
    "# clean step 1\n",
    "df_jd_it_job_only['final_cleaned_jd'] = df_jd_it_job_only.job_description.apply(lambda x: cleanResume(x))\n",
    "\n",
    "# clean step 2\n",
    "# df_jd_it_job_only = df_jd_it_job_only.assign(final_cleaned_jd = df_jd_it_job_only.step1_cleaned_jd.apply(clean_sentence))\n",
    "# df_jd_it_job_only.head(3)"
   ]
  },
  {
   "cell_type": "code",
   "execution_count": 26,
   "metadata": {},
   "outputs": [
    {
     "data": {
      "text/html": [
       "<div>\n",
       "<style scoped>\n",
       "    .dataframe tbody tr th:only-of-type {\n",
       "        vertical-align: middle;\n",
       "    }\n",
       "\n",
       "    .dataframe tbody tr th {\n",
       "        vertical-align: top;\n",
       "    }\n",
       "\n",
       "    .dataframe thead th {\n",
       "        text-align: right;\n",
       "    }\n",
       "</style>\n",
       "<table border=\"1\" class=\"dataframe\">\n",
       "  <thead>\n",
       "    <tr style=\"text-align: right;\">\n",
       "      <th></th>\n",
       "      <th>category</th>\n",
       "      <th>resume</th>\n",
       "      <th>final_cleaned_resume</th>\n",
       "    </tr>\n",
       "  </thead>\n",
       "  <tbody>\n",
       "    <tr>\n",
       "      <th>0</th>\n",
       "      <td>Data Science</td>\n",
       "      <td>Skills * Programming Languages: Python (pandas...</td>\n",
       "      <td>skills programming languages python pandas num...</td>\n",
       "    </tr>\n",
       "    <tr>\n",
       "      <th>1</th>\n",
       "      <td>Data Science</td>\n",
       "      <td>Education Details \\r\\nMay 2013 to May 2017 B.E...</td>\n",
       "      <td>education details may may b e uit rgpv data sc...</td>\n",
       "    </tr>\n",
       "    <tr>\n",
       "      <th>2</th>\n",
       "      <td>Data Science</td>\n",
       "      <td>Areas of Interest Deep Learning, Control Syste...</td>\n",
       "      <td>areas interest deep learning control system de...</td>\n",
       "    </tr>\n",
       "    <tr>\n",
       "      <th>3</th>\n",
       "      <td>Data Science</td>\n",
       "      <td>Skills â¢ R â¢ Python â¢ SAP HANA â¢ Table...</td>\n",
       "      <td>skills r python sap hana tableau sap hana sql ...</td>\n",
       "    </tr>\n",
       "    <tr>\n",
       "      <th>4</th>\n",
       "      <td>Data Science</td>\n",
       "      <td>Education Details \\r\\n MCA   YMCAUST,  Faridab...</td>\n",
       "      <td>education details mca ymcaust faridabad haryan...</td>\n",
       "    </tr>\n",
       "  </tbody>\n",
       "</table>\n",
       "</div>"
      ],
      "text/plain": [
       "       category                                             resume  \\\n",
       "0  Data Science  Skills * Programming Languages: Python (pandas...   \n",
       "1  Data Science  Education Details \\r\\nMay 2013 to May 2017 B.E...   \n",
       "2  Data Science  Areas of Interest Deep Learning, Control Syste...   \n",
       "3  Data Science  Skills â¢ R â¢ Python â¢ SAP HANA â¢ Table...   \n",
       "4  Data Science  Education Details \\r\\n MCA   YMCAUST,  Faridab...   \n",
       "\n",
       "                                final_cleaned_resume  \n",
       "0  skills programming languages python pandas num...  \n",
       "1  education details may may b e uit rgpv data sc...  \n",
       "2  areas interest deep learning control system de...  \n",
       "3  skills r python sap hana tableau sap hana sql ...  \n",
       "4  education details mca ymcaust faridabad haryan...  "
      ]
     },
     "execution_count": 26,
     "metadata": {},
     "output_type": "execute_result"
    }
   ],
   "source": [
    "first_5_resume = df_resume.head(5)\n",
    "first_5_resume"
   ]
  },
  {
   "cell_type": "code",
   "execution_count": 27,
   "metadata": {},
   "outputs": [
    {
     "data": {
      "text/plain": [
       "'introduction amret developed dedicated program students studying year fresh graduate field information technology get good opportunity skills practice learning classroom well get coaching directly professionals many year experience join elerated skills knowledge ask program practical skill program gain professional working experience directly coached professionals attractive allowance monthly allowance per month plus national social security fund nssf job opportunity amret qualified competent interns prioritized available job amret'"
      ]
     },
     "execution_count": 27,
     "metadata": {},
     "output_type": "execute_result"
    }
   ],
   "source": [
    "first_jd = df_jd_it_job_only.head(1)\n",
    "\n",
    "jd = ''\n",
    "for index, row in first_jd.iterrows():\n",
    "    jd = row['final_cleaned_jd']\n",
    "\n",
    "jd"
   ]
  },
  {
   "cell_type": "code",
   "execution_count": 28,
   "metadata": {},
   "outputs": [
    {
     "name": "stdout",
     "output_type": "stream",
     "text": [
      "Resume           : skills programming languages python pandas numpy scipy scikit learn matplotlib sql java javascript jquery machine learning regression svm na bayes knn random forest decision trees boosting techniques cluster analysis word embedding sentiment analysis natural language processing dimensionality reduction topic modelling lda nmf pca neural nets database visualizations mysql sqlserver cassandra hbase elasticsearch js dc js plotly kibana matplotlib ggplot tableau others regular expression html css angular logstash kafka python flask git docker computer vision open cv understanding deep learning education details data science assurance associate data science assurance associate ernst young llp skill details javascript exprience months jquery exprience months python exprience monthscompany details company ernst young llp description fraud investigations dispute services assurance technology assisted review tar technology assisted review assists elerating review process run analytics generate reports core member team helped developing automated review platform tool scratch assisting e discovery domain tool implements predictive coding topic modelling automating reviews resulting reduced labor costs time spent lawyers review understand end end flow solution research development classification models predictive analysis mining information present text data worked analyzing outputs precision monitoring entire tool tar assists predictive coding topic modelling evidence following ey standards developed classifier models order identify red flags fraud related issues tools technologies python scikit learn tfidf word vec doc vec cosine similarity na bayes lda nmf topic modelling vader text blob sentiment analysis matplot lib tableau dashboard reporting multiple data science analytic projects usa clients text analytics motor vehicle customer review data received customer feedback survey data past one year performed sentiment positive negative neutral time series analysis customer comments across categories created heat map terms survey category based frequency words extracted positive negative words across survey categories plotted word cloud created customized tableau dashboards effective reporting visualizations chatbot developed user friendly chatbot one products handle simple questions hours operation reservation options chat bot serves entire product related questions giving overview tool via qa platform also give recommendation responses user question build chain relevant answer intelligence build pipeline questions per user requirement asks relevant recommended questions tools technologies python natural language processing nltk spacy topic modelling sentiment analysis word embedding scikit learn javascript jquery sqlserver information governance organizations make informed decisions information store integrated information governance portfolio synthesizes intelligence across unstructured data sources facilitates action ensure organizations best positioned counter information risk scan data multiple sources formats parse different file formats extract meta data information push results indexing elastic search created customized interactive dashboards using kibana preforming rot analysis data give information data helps identify content either redundant outdated trivial preforming full text search analysis elastic search predefined methods tag pii personally identifiable information social security numbers addresses names etc frequently targeted cyber attacks tools technologies python flask elastic search kibana fraud analytic platform fraud analytics investigative platform review red flag cases fap fraud analytics investigative platform inbuilt case manager suite analytics various erp systems used clients interrogate ounting systems identifying anomalies indicators fraud running advanced analytics tools technologies html javascript sqlserver jquery css bootstrap node js js dc js\n",
      "Job Description  : introduction amret developed dedicated program students studying year fresh graduate field information technology get good opportunity skills practice learning classroom well get coaching directly professionals many year experience join elerated skills knowledge ask program practical skill program gain professional working experience directly coached professionals attractive allowance monthly allowance per month plus national social security fund nssf job opportunity amret qualified competent interns prioritized available job amret\n",
      "Similarity Rate  : 37.62%\n",
      "\n",
      "Resume           : education details may may b e uit rgpv data scientist data scientist matelabs skill details python exprience less year months statsmodels exprience months aws exprience less year months machine learning exprience less year months sklearn exprience less year months scipy exprience less year months keras exprience less year monthscompany details company matelabs description ml platform business professionals dummies enthusiasts koramangala th block achievements tasks behind sukh sagar bengaluru india developed deployed auto preprocessing steps machine learning mainly missing value treatment outlier detection encoding scaling feature selection dimensionality reduction deployed automated classification regression model linkedin com aditya rathore b b reasearch deployed time series forecasting model arima sarimax holt winter prophet worked meta feature extracting problem github com rathorology implemented state art research paper outlier detection mixed attributes company matelabs description\n",
      "Job Description  : introduction amret developed dedicated program students studying year fresh graduate field information technology get good opportunity skills practice learning classroom well get coaching directly professionals many year experience join elerated skills knowledge ask program practical skill program gain professional working experience directly coached professionals attractive allowance monthly allowance per month plus national social security fund nssf job opportunity amret qualified competent interns prioritized available job amret\n",
      "Similarity Rate  : 40.23%\n",
      "\n",
      "Resume           : areas interest deep learning control system design programming python electric machinery web development analytics technical activities q hindustan aeronautics limited bangalore weeks guidance mr satish senior engineer hangar mirage fighter aircraft technical skills programming matlab python java labview python webframework django flask ltspice intermediate languages mipower intermediate github gitbash jupyter notebook xampp mysql basics python software packages interpreters anaconda python python pycharm java ide eclipse operating systems windows ubuntu debian kali linux education details january b tech electrical electronics engineering manipal institute technology january deeksha center january little flower public school august manipal academy higher data science data science electrical enthusiast skill details data analysis exprience less year months excel exprience less year months machine learning exprience less year months mathematics exprience less year months python exprience less year months matlab exprience less year months electrical engineering exprience less year months sql exprience less year monthscompany details company themathcompany description currently working casino based operator name disclosed macau need segment customers visit property based value patrons bring company basically prove segmentation done much better way current system proper numbers back henceforth implement target marketing strategy attract customers add value business\n",
      "Job Description  : introduction amret developed dedicated program students studying year fresh graduate field information technology get good opportunity skills practice learning classroom well get coaching directly professionals many year experience join elerated skills knowledge ask program practical skill program gain professional working experience directly coached professionals attractive allowance monthly allowance per month plus national social security fund nssf job opportunity amret qualified competent interns prioritized available job amret\n",
      "Similarity Rate  : 46.38%\n",
      "\n",
      "Resume           : skills r python sap hana tableau sap hana sql sap hana pal ms sql sap lumira c linear programming data modelling advance analytics scm analytics retail analytics social media analytics nlp education details january january pgdm business analytics great lakes institute management illinois institute technology january bachelor engineering electronics communication bengaluru karnataka new horizon college engineering bangalore visvesvaraya technological university data science consultant consultant deloitte usi skill details linear programming exprience months retail exprience months retail marketing exprience months scm exprience months sql exprience less year months deep learning exprience less year months machine learning exprience less year months python exprience less year months r exprience less year monthscompany details company deloitte usi description project involved analysing historic deals coming insights optimize future deals role given raw data carried end end analysis presented insights client key responsibilities extract data client systems across geographies understand build reports tableau infer meaningful insights optimize prices find process blockades technical environment r tableau industry cross industry service area cross industry products project name handwriting recognition consultant months project involved taking handwritten images converting digital text images object detection sentence creation role developing sentence correction functionality key responsibilities gather data large enough capture english words train lstm models words technical environment python industry finance service area financial services bi development project name swift consultant months project develop analytics infrastructure top sap would user view financial reports respective departments reporting also included forecasting expenses role leading offshore team key responsibilities design develop data models reporting develop etl data flow validate various reports technical environment sap hana tableau sap ao industry healthcare analytics service area life sciences product development project name clinical healthcare system consultant months project develop analytics infrastructure top argus would allow users query faster provide advance analytics capabilities role involved design deploy phase performed lot data restructuring built models insights key responsibilities design develop data models reporting develop deploy analytical models validate various reports technical environment data modelling sap hana tableau nlp industry fmcg service area trade promotion project name consumption based planning flowers foods consultant months project involved setting crm cbp modules role involved key data decomposition activities setting base future year forecast course project developed various models carried key performance improvements key responsibilities design develop hana models decomposition develop data flow forecast developed various views reporting customer sales funds validate various reports bobj technical environment data modelling sap hana bobj time series forecasting internal initiative industry fmcg customer segmentation rfm analysis consultant months initiative involved setting hana python interface advance analytics python course su essfully segmented data five core segments using k means carried rfm analysis python also developed algorithm categorize new customer defined buckets technical environment anaconda python hana sps industry telecom invoice state detection consultant months initiative reduce manual effort verifying closed open invoices manually involved development decision tree classify open closed invoices enabled effort reduction technical environment r sap pal sap hana sps enture experience industry analytics cross industry process analytics sap senior developer months enture solutions pvt ltd india project involved development sap analytics tool process analytics ipa role develop database objects data models provide operational insights clients role developed various finance related kpis spearheaded various deployments introduced sap predictive analytics reduce development time reuse functionalities kpis prepared production planning reports key responsibilities involved information gather phase designed implemented sap hana data modelling using attribute view analytic view calculation view developed various kpi individually using complex sql scripts calculation views created procedures hana database took ownership developed dashboard functionality involved building data processing algorithms executed r server cluster analysis technical environment r sap hana sql industry cross industry enture testing elerator sap database developer months enture solutions pvt ltd india role taken care development activities atas tool also completed various deployments product apart activities also actively involved maintenance database servers production quality key responsibilities analyzing business requirements understanding scope getting requirements clarified interacting business transform requirements generate attribute mapping documents reviewing mapping specification documentation create update database objects like tables views stored procedures function packages monitored sql server error logs application logs sql server agent prepared data flow diagrams entity relationship diagrams using uml responsible designing developing normalization database tables experience performance tuning using sql profiler involved qa uat knowledge transfer support activities technical environment sql server visual studio windows server performance monitor sql server profiler c pl sql sql\n",
      "Job Description  : introduction amret developed dedicated program students studying year fresh graduate field information technology get good opportunity skills practice learning classroom well get coaching directly professionals many year experience join elerated skills knowledge ask program practical skill program gain professional working experience directly coached professionals attractive allowance monthly allowance per month plus national social security fund nssf job opportunity amret qualified competent interns prioritized available job amret\n",
      "Similarity Rate  : 38.09%\n",
      "\n",
      "Resume           : education details mca ymcaust faridabad haryana data science internship skill details data structure exprience less year months c exprience less year months data analysis exprience less year months python exprience less year months core java exprience less year months database management exprience less year monthscompany details company itechpower description\n",
      "Job Description  : introduction amret developed dedicated program students studying year fresh graduate field information technology get good opportunity skills practice learning classroom well get coaching directly professionals many year experience join elerated skills knowledge ask program practical skill program gain professional working experience directly coached professionals attractive allowance monthly allowance per month plus national social security fund nssf job opportunity amret qualified competent interns prioritized available job amret\n",
      "Similarity Rate  : 49.66%\n",
      "\n",
      "{0: 37.62, 1: 40.23, 2: 46.38, 3: 38.09, 4: 49.66}\n"
     ]
    }
   ],
   "source": [
    "ranking_dict = {}\n",
    "\n",
    "for index, row in first_5_resume.iterrows():\n",
    "    print(\"Resume           :\", row['final_cleaned_resume'])\n",
    "    print(\"Job Description  :\", jd)\n",
    "    resume = row['final_cleaned_resume']\n",
    "    \n",
    "    embedding_1 = model.encode([resume])\n",
    "    embedding_2 = model.encode([jd])\n",
    "\n",
    "    similarity_rate = cosine_similarity(embedding_1, embedding_2)\n",
    "    print(\"Similarity Rate  :\", format(similarity_rate[0][0]*100, '.2f')+'%')\n",
    "    print()\n",
    "    ranking_dict[index] = float(format(similarity_rate[0][0]*100, '.2f'))\n",
    "\n",
    "print(ranking_dict)"
   ]
  },
  {
   "cell_type": "code",
   "execution_count": 29,
   "metadata": {},
   "outputs": [
    {
     "data": {
      "text/plain": [
       "{4: 49.66, 2: 46.38, 1: 40.23, 3: 38.09, 0: 37.62}"
      ]
     },
     "execution_count": 29,
     "metadata": {},
     "output_type": "execute_result"
    }
   ],
   "source": [
    "sorted_ranking_resume = dict(sorted(ranking_dict.items(), key=lambda item: item[1], reverse=True))\n",
    "sorted_ranking_resume"
   ]
  },
  {
   "cell_type": "code",
   "execution_count": 30,
   "metadata": {},
   "outputs": [
    {
     "name": "stdout",
     "output_type": "stream",
     "text": [
      "Index: 4 - 49.66%\n",
      "Index: 2 - 46.38%\n",
      "Index: 1 - 40.23%\n",
      "Index: 3 - 38.09%\n",
      "Index: 0 - 37.62%\n"
     ]
    }
   ],
   "source": [
    "for key in sorted_ranking_resume:\n",
    "    print('Index:', key, '-' , str(sorted_ranking_resume[key]) + '%')"
   ]
  },
  {
   "cell_type": "markdown",
   "metadata": {},
   "source": [
    "# Prepare Input from Web and give response - JSON format"
   ]
  },
  {
   "cell_type": "markdown",
   "metadata": {},
   "source": [
    "### Dump Json Input"
   ]
  },
  {
   "cell_type": "code",
   "execution_count": 31,
   "metadata": {},
   "outputs": [
    {
     "data": {
      "text/plain": [
       "{'job_description': 'This is job description from test CADT.',\n",
       " 'resume': [{'name': 'Ronaldo', 'resume': 'This is resume 1. Python'},\n",
       "  {'name': 'Messi', 'resume': 'This is resume 2. Java'},\n",
       "  {'name': 'Neymar', 'resume': 'This is resume 3. C++'},\n",
       "  {'name': 'Sophal', 'resume': 'This is resume 3. Laravel, Python'}]}"
      ]
     },
     "execution_count": 31,
     "metadata": {},
     "output_type": "execute_result"
    }
   ],
   "source": [
    "data = {\n",
    "    \"job_description\" : \"This is job description from test CADT.\",\n",
    "    \"resume\" : [\n",
    "        {\n",
    "            \"name\" : \"Ronaldo\",\n",
    "            \"resume\" : \"This is resume 1. Python\"\n",
    "        },\n",
    "        {\n",
    "            \"name\" : \"Messi\",\n",
    "            \"resume\" : \"This is resume 2. Java\"\n",
    "        },\n",
    "        {\n",
    "            \"name\" : \"Neymar\",\n",
    "            \"resume\" : \"This is resume 3. C++\"\n",
    "        },\n",
    "        {\n",
    "            \"name\" : \"Sophal\",\n",
    "            \"resume\" : \"This is resume 3. Laravel, Python\"\n",
    "        }\n",
    "    ]\n",
    "}\n",
    "\n",
    "data"
   ]
  },
  {
   "cell_type": "code",
   "execution_count": 32,
   "metadata": {},
   "outputs": [],
   "source": [
    "jd = data['job_description']"
   ]
  },
  {
   "cell_type": "code",
   "execution_count": 33,
   "metadata": {},
   "outputs": [
    {
     "data": {
      "text/plain": [
       "[{'name': 'Ronaldo', 'resume': 'This is resume 1. Python'},\n",
       " {'name': 'Messi', 'resume': 'This is resume 2. Java'},\n",
       " {'name': 'Neymar', 'resume': 'This is resume 3. C++'},\n",
       " {'name': 'Sophal', 'resume': 'This is resume 3. Laravel, Python'}]"
      ]
     },
     "execution_count": 33,
     "metadata": {},
     "output_type": "execute_result"
    }
   ],
   "source": [
    "data['resume']"
   ]
  },
  {
   "cell_type": "code",
   "execution_count": 34,
   "metadata": {},
   "outputs": [
    {
     "data": {
      "text/html": [
       "<div>\n",
       "<style scoped>\n",
       "    .dataframe tbody tr th:only-of-type {\n",
       "        vertical-align: middle;\n",
       "    }\n",
       "\n",
       "    .dataframe tbody tr th {\n",
       "        vertical-align: top;\n",
       "    }\n",
       "\n",
       "    .dataframe thead th {\n",
       "        text-align: right;\n",
       "    }\n",
       "</style>\n",
       "<table border=\"1\" class=\"dataframe\">\n",
       "  <thead>\n",
       "    <tr style=\"text-align: right;\">\n",
       "      <th></th>\n",
       "      <th>name</th>\n",
       "      <th>resume</th>\n",
       "    </tr>\n",
       "  </thead>\n",
       "  <tbody>\n",
       "    <tr>\n",
       "      <th>0</th>\n",
       "      <td>Ronaldo</td>\n",
       "      <td>This is resume 1. Python</td>\n",
       "    </tr>\n",
       "    <tr>\n",
       "      <th>1</th>\n",
       "      <td>Messi</td>\n",
       "      <td>This is resume 2. Java</td>\n",
       "    </tr>\n",
       "    <tr>\n",
       "      <th>2</th>\n",
       "      <td>Neymar</td>\n",
       "      <td>This is resume 3. C++</td>\n",
       "    </tr>\n",
       "    <tr>\n",
       "      <th>3</th>\n",
       "      <td>Sophal</td>\n",
       "      <td>This is resume 3. Laravel, Python</td>\n",
       "    </tr>\n",
       "  </tbody>\n",
       "</table>\n",
       "</div>"
      ],
      "text/plain": [
       "      name                             resume\n",
       "0  Ronaldo           This is resume 1. Python\n",
       "1    Messi             This is resume 2. Java\n",
       "2   Neymar              This is resume 3. C++\n",
       "3   Sophal  This is resume 3. Laravel, Python"
      ]
     },
     "execution_count": 34,
     "metadata": {},
     "output_type": "execute_result"
    }
   ],
   "source": [
    "df_input_resume = pd.DataFrame(data['resume'])\n",
    "df_input_resume"
   ]
  },
  {
   "cell_type": "markdown",
   "metadata": {},
   "source": [
    "#### Clean Input Resume Dataset and JD - And Apply Similarity Calculation and Ranking in separated functions"
   ]
  },
  {
   "cell_type": "code",
   "execution_count": 35,
   "metadata": {},
   "outputs": [
    {
     "data": {
      "text/plain": [
       "'job description test cadt'"
      ]
     },
     "execution_count": 35,
     "metadata": {},
     "output_type": "execute_result"
    }
   ],
   "source": [
    "jd = cleanResume(jd)\n",
    "jd"
   ]
  },
  {
   "cell_type": "code",
   "execution_count": 36,
   "metadata": {},
   "outputs": [
    {
     "data": {
      "text/html": [
       "<div>\n",
       "<style scoped>\n",
       "    .dataframe tbody tr th:only-of-type {\n",
       "        vertical-align: middle;\n",
       "    }\n",
       "\n",
       "    .dataframe tbody tr th {\n",
       "        vertical-align: top;\n",
       "    }\n",
       "\n",
       "    .dataframe thead th {\n",
       "        text-align: right;\n",
       "    }\n",
       "</style>\n",
       "<table border=\"1\" class=\"dataframe\">\n",
       "  <thead>\n",
       "    <tr style=\"text-align: right;\">\n",
       "      <th></th>\n",
       "      <th>name</th>\n",
       "      <th>resume</th>\n",
       "      <th>final_cleaned_resume</th>\n",
       "    </tr>\n",
       "  </thead>\n",
       "  <tbody>\n",
       "    <tr>\n",
       "      <th>0</th>\n",
       "      <td>Ronaldo</td>\n",
       "      <td>This is resume 1. Python</td>\n",
       "      <td>resume python</td>\n",
       "    </tr>\n",
       "    <tr>\n",
       "      <th>1</th>\n",
       "      <td>Messi</td>\n",
       "      <td>This is resume 2. Java</td>\n",
       "      <td>resume java</td>\n",
       "    </tr>\n",
       "    <tr>\n",
       "      <th>2</th>\n",
       "      <td>Neymar</td>\n",
       "      <td>This is resume 3. C++</td>\n",
       "      <td>resume c</td>\n",
       "    </tr>\n",
       "    <tr>\n",
       "      <th>3</th>\n",
       "      <td>Sophal</td>\n",
       "      <td>This is resume 3. Laravel, Python</td>\n",
       "      <td>resume laravel python</td>\n",
       "    </tr>\n",
       "  </tbody>\n",
       "</table>\n",
       "</div>"
      ],
      "text/plain": [
       "      name                             resume   final_cleaned_resume\n",
       "0  Ronaldo           This is resume 1. Python          resume python\n",
       "1    Messi             This is resume 2. Java            resume java\n",
       "2   Neymar              This is resume 3. C++               resume c\n",
       "3   Sophal  This is resume 3. Laravel, Python  resume laravel python"
      ]
     },
     "execution_count": 36,
     "metadata": {},
     "output_type": "execute_result"
    }
   ],
   "source": [
    "# clean step 1\n",
    "df_input_resume['final_cleaned_resume'] = df_input_resume.resume.apply(lambda x: cleanResume(x))\n",
    "df_input_resume.head(5)"
   ]
  },
  {
   "cell_type": "code",
   "execution_count": 37,
   "metadata": {},
   "outputs": [
    {
     "name": "stdout",
     "output_type": "stream",
     "text": [
      "Ronaldo  =  20.89 %\n"
     ]
    },
    {
     "name": "stdout",
     "output_type": "stream",
     "text": [
      "Messi  =  19.75 %\n",
      "Neymar  =  32.02 %\n",
      "Sophal  =  15.37 %\n"
     ]
    },
    {
     "data": {
      "text/plain": [
       "[[['name', 'Ronaldo'], ['rate', 0.20889776945114136], ['percentage', 20.89]],\n",
       " [['name', 'Messi'], ['rate', 0.19745372235774994], ['percentage', 19.75]],\n",
       " [['name', 'Neymar'], ['rate', 0.32023486495018005], ['percentage', 32.02]],\n",
       " [['name', 'Sophal'], ['rate', 0.153700053691864], ['percentage', 15.37]]]"
      ]
     },
     "execution_count": 37,
     "metadata": {},
     "output_type": "execute_result"
    }
   ],
   "source": [
    "def calculate_similarity(resume, jd):\n",
    "    embedding_1 = model.encode([resume])\n",
    "    embedding_2 = model.encode([jd])\n",
    "\n",
    "    similarity_rate = cosine_similarity(embedding_1, embedding_2)\n",
    "    similarity_rate_percentage = format(similarity_rate[0][0]*100, '.2f')\n",
    "    # print(\"Similarity Rate  :\", format(similarity_rate[0][0]*100, '.2f')+'%')\n",
    "    \n",
    "    return [float(similarity_rate), float(similarity_rate_percentage)]\n",
    "\n",
    "\n",
    "response = []\n",
    "\n",
    "for index, row in df_input_resume.iterrows():\n",
    "    resume = row['final_cleaned_resume']\n",
    "\n",
    "    print(row['name'], \" = \", calculate_similarity(resume, jd)[1], \"%\")\n",
    "\n",
    "    tmp = []\n",
    "    tmp.append(['name', row['name']])\n",
    "    tmp.append(['rate', calculate_similarity(resume, jd)[0]])\n",
    "    tmp.append(['percentage', calculate_similarity(resume, jd)[1]])\n",
    "    response.append(tmp)\n",
    "\n",
    "response"
   ]
  },
  {
   "cell_type": "code",
   "execution_count": 38,
   "metadata": {},
   "outputs": [
    {
     "data": {
      "text/plain": [
       "[[['name', 'Neymar'], ['rate', 0.32023486495018005], ['percentage', 32.02]],\n",
       " [['name', 'Ronaldo'], ['rate', 0.20889776945114136], ['percentage', 20.89]],\n",
       " [['name', 'Messi'], ['rate', 0.19745372235774994], ['percentage', 19.75]],\n",
       " [['name', 'Sophal'], ['rate', 0.153700053691864], ['percentage', 15.37]]]"
      ]
     },
     "execution_count": 38,
     "metadata": {},
     "output_type": "execute_result"
    }
   ],
   "source": [
    "sorted_response = sorted(response, key=lambda x: x[2], reverse=True)\n",
    "response = sorted_response\n",
    "\n",
    "response"
   ]
  },
  {
   "cell_type": "markdown",
   "metadata": {},
   "source": [
    "### Resume Ranking System"
   ]
  },
  {
   "cell_type": "code",
   "execution_count": 39,
   "metadata": {},
   "outputs": [],
   "source": [
    "def resume_ranking_system(df_input_resume, jd):\n",
    "    response = []\n",
    "    for index, row in df_input_resume.iterrows():\n",
    "\n",
    "        resume = row['final_cleaned_resume']\n",
    "\n",
    "        embedding_1 = model.encode([resume])\n",
    "        embedding_2 = model.encode([jd])\n",
    "\n",
    "        similarity_rate = cosine_similarity(embedding_1, embedding_2)\n",
    "        similarity_rate_percentage = format(similarity_rate[0][0]*100, '.2f')\n",
    "\n",
    "        tmp = []\n",
    "        tmp.append(['name', row['name']])\n",
    "        tmp.append(['rate', float(similarity_rate)])\n",
    "        tmp.append(['percentage', float(similarity_rate_percentage)])\n",
    "        response.append(tmp)\n",
    "    \n",
    "    sorted_response = sorted(response, key=lambda x: x[2], reverse=True)\n",
    "    response = sorted_response\n",
    "\n",
    "    return response\n",
    "    "
   ]
  },
  {
   "cell_type": "code",
   "execution_count": 40,
   "metadata": {},
   "outputs": [
    {
     "data": {
      "text/plain": [
       "[[['name', 'Neymar'], ['rate', 0.32023486495018005], ['percentage', 32.02]],\n",
       " [['name', 'Ronaldo'], ['rate', 0.20889776945114136], ['percentage', 20.89]],\n",
       " [['name', 'Messi'], ['rate', 0.19745372235774994], ['percentage', 19.75]],\n",
       " [['name', 'Sophal'], ['rate', 0.153700053691864], ['percentage', 15.37]]]"
      ]
     },
     "execution_count": 40,
     "metadata": {},
     "output_type": "execute_result"
    }
   ],
   "source": [
    "resume_ranking_system(df_input_resume, jd)"
   ]
  },
  {
   "cell_type": "code",
   "execution_count": null,
   "metadata": {},
   "outputs": [],
   "source": []
  }
 ],
 "metadata": {
  "kernelspec": {
   "display_name": "Python 3",
   "language": "python",
   "name": "python3"
  },
  "language_info": {
   "codemirror_mode": {
    "name": "ipython",
    "version": 3
   },
   "file_extension": ".py",
   "mimetype": "text/x-python",
   "name": "python",
   "nbconvert_exporter": "python",
   "pygments_lexer": "ipython3",
   "version": "3.9.13"
  },
  "orig_nbformat": 4
 },
 "nbformat": 4,
 "nbformat_minor": 2
}
